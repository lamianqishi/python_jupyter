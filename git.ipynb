{
 "cells": [
  {
   "cell_type": "markdown",
   "metadata": {},
   "source": [
    "# Git安装\n",
    "- https://git-scm.com/download/linux官网\n",
    "- 本文在linux上安装\n"
   ]
  },
  {
   "cell_type": "markdown",
   "metadata": {},
   "source": [
    "# git基本使用\n",
    "- 创建仓库 git init\n",
    "- 向暂存区添加内容，git add\n",
    "- git add *：提交所有到暂存区\n",
    "- git commit -m \"massge for desc\":向仓库提交内筒，一般注释信息要求强制添加\n",
    "- git status ：表示查看当前状态\n",
    "- git rm : 删除文件，只是名义上删除\n",
    "- git log :查看日志\n",
    "- git reset HEAD 文件名  ： 取消该文件暂存\n",
    "- git commit --amend :修改并覆盖上一次提交动作\n",
    "- git checkout -- 文件名 : 到处文件"
   ]
  },
  {
   "cell_type": "markdown",
   "metadata": {},
   "source": [
    "# 远程git\n",
    "- 共有开源GITHUB\n",
    "- 私有bitbuckts\n",
    "    - 克隆：远程到本地git clone 加上服务器网址"
   ]
  }
 ],
 "metadata": {
  "kernelspec": {
   "display_name": "Python 3",
   "language": "python",
   "name": "python3"
  },
  "language_info": {
   "codemirror_mode": {
    "name": "ipython",
    "version": 3
   },
   "file_extension": ".py",
   "mimetype": "text/x-python",
   "name": "python",
   "nbconvert_exporter": "python",
   "pygments_lexer": "ipython3",
   "version": "3.6.3"
  }
 },
 "nbformat": 4,
 "nbformat_minor": 2
}
