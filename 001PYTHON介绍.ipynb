{
 "cells": [
  {
   "cell_type": "code",
   "execution_count": null,
   "metadata": {
    "collapsed": true
   },
   "outputs": [],
   "source": [
    "# Pthon基础\n",
    "##   Python 概述\n",
    "- 计算机语言概述\n",
    "    - 语言:交流工具，沟通媒介\n",
    "    - 计算机语言：人跟计算机交流的工具，翻译官\n",
    "    - Python是计算机语言的一种\n",
    "    - Python 编程语言\n",
    "        - 代码： 人类语言，通过代码命令及其。跟机器交流\n",
    "        - Python 解释器： 就是那个担任翻译工作的人\n",
    "        - 流程：\n",
    "            - 写代码\n",
    "            - 执行：由翻译官（Pyhon解释器）把翻译给机器，同时把机器结果翻译给我们\n",
    "    - Python读音问题\n",
    "    - Python简史\n",
    "       - 1989年， Guido van Rossum 为科研目的开发出来\n",
    "       - 2008年， Python3.0 诞生\n",
    "       - 2014年， 宣布2.7支持到2020年\n",
    "       - 2017年， AI元年，Python崛起\n",
    "    - Python特点\n",
    "        - 速度问题\n",
    "        - Python跟其他语言的选择问题\n",
    "    - Python的应用领域\n",
    "        - 全能\n",
    "        - 设计哲学： 平衡发展，样样通，简洁明了\n",
    "    - Python为什么会这么火\n",
    "        - 会不会持续火\n",
    "    - 环境问题\n",
    "        - anaconda + pycharm\n",
    "        - python 3.6\n",
    "    - 环境搭建自我\n",
    "        - 学习环境：\n",
    "            - 直播课程： 网易云课堂\n",
    "            - 讲义 + 代码： gihub\n",
    "            - 教科书： gitbook\n",
    "        - 环境安装\n",
    "             - gitbook上有\n",
    "             - http:///www.cnblogs.com/zhouzhishuai/p/8401103.html\n",
    "        - 操作系统\n",
    "             - windows\n",
    "             - Linux\n",
    "             - MaxOX\n",
    "             - 我们的标准系统： windows 下开虚拟机，虚拟机安装ubuntu\n",
    "        - 软件环境\n",
    "            - 不适用Python解释器\n",
    "            - 使用 anaconda3 + pycharm 代替\n",
    "            - 具体环境对各位讲师不做要求\n",
    "      - Python的执行方式\n",
    "        - 本质上Python是一对命令的集合\n",
    "        - 执行过程逐条执行，遇到问题即可终止\n",
    "            - 打印hello world\n",
    "          "
   ]
  },
  {
   "cell_type": "markdown",
   "metadata": {},
   "source": []
  },
  {
   "cell_type": "code",
   "execution_count": 1,
   "metadata": {},
   "outputs": [
    {
     "name": "stdout",
     "output_type": "stream",
     "text": [
      "hello world!\n",
      "叫我天才工程师杨永强！\n"
     ]
    }
   ],
   "source": [
    "print(\"hello world!\")\n",
    "print(\"叫我天才工程师杨永强！\")"
   ]
  },
  {
   "cell_type": "code",
   "execution_count": null,
   "metadata": {
    "collapsed": true
   },
   "outputs": [],
   "source": []
  },
  {
   "cell_type": "code",
   "execution_count": null,
   "metadata": {
    "collapsed": true
   },
   "outputs": [],
   "source": []
  },
  {
   "cell_type": "code",
   "execution_count": null,
   "metadata": {
    "collapsed": true
   },
   "outputs": [],
   "source": []
  },
  {
   "cell_type": "code",
   "execution_count": null,
   "metadata": {
    "collapsed": true
   },
   "outputs": [],
   "source": []
  },
  {
   "cell_type": "code",
   "execution_count": null,
   "metadata": {
    "collapsed": true
   },
   "outputs": [],
   "source": []
  },
  {
   "cell_type": "code",
   "execution_count": null,
   "metadata": {
    "collapsed": true
   },
   "outputs": [],
   "source": []
  },
  {
   "cell_type": "code",
   "execution_count": null,
   "metadata": {
    "collapsed": true
   },
   "outputs": [],
   "source": []
  }
 ],
 "metadata": {
  "kernelspec": {
   "display_name": "Python 3",
   "language": "python",
   "name": "python3"
  },
  "language_info": {
   "codemirror_mode": {
    "name": "ipython",
    "version": 3
   },
   "file_extension": ".py",
   "mimetype": "text/x-python",
   "name": "python",
   "nbconvert_exporter": "python",
   "pygments_lexer": "ipython3",
   "version": "3.6.3"
  }
 },
 "nbformat": 4,
 "nbformat_minor": 2
}
