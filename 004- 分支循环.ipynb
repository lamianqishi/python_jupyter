{
 "cells": [
  {
   "cell_type": "markdown",
   "metadata": {},
   "source": [
    "# 三大结构\n",
    "- 顺序\n",
    "- 分之\n",
    "- 循环"
   ]
  },
  {
   "cell_type": "markdown",
   "metadata": {},
   "source": [
    "# 分之\n",
    "- 分之的基本语法\n",
    "    - if 表达式\n",
    "        if 条件表达式\n",
    "         语句1\n",
    "         语句2\n",
    "         语句3\n",
    "         .....\n",
    "- 条件表达式就是就算结果必须为布尔值的表达式\n",
    "- 表达式后面的冒号不嫩少\n",
    "- 注意if后面出现的语句，如果if语句块，则必须同一个缩进等级\n",
    "- 条件表达式结果为True执行if后面的缩进的语句块"
   ]
  },
  {
   "cell_type": "code",
   "execution_count": 9,
   "metadata": {},
   "outputs": [
    {
     "name": "stdout",
     "output_type": "stream",
     "text": [
      "去找你家长去\n",
      "不带你玩\n"
     ]
    }
   ],
   "source": [
    "# if语句\n",
    "age = 17\n",
    "if age < 18 :\n",
    "    print(\"去找你家长去\")\n",
    "    print(\"不带你玩\")"
   ]
  },
  {
   "cell_type": "code",
   "execution_count": 12,
   "metadata": {},
   "outputs": [
    {
     "name": "stdout",
     "output_type": "stream",
     "text": [
      "开始上车喽，老司机！\n"
     ]
    }
   ],
   "source": [
    "# if语句联系\n",
    "# 如果age小于18岁，则打印信息”去叫长“\n",
    "age = 19\n",
    "if age < 18 :\n",
    "    print(\"请去找你的家长过来商议\")\n",
    "    print(\"我们不带你去玩\")#等级别缩进到此处就不执行了\n",
    "print(\"开始上车喽，老司机！\")# 要注意缩进级别，这个在python中是要特别留意的\n",
    "\n",
    "    "
   ]
  },
  {
   "cell_type": "code",
   "execution_count": 15,
   "metadata": {
    "scrolled": true
   },
   "outputs": [
    {
     "name": "stdout",
     "output_type": "stream",
     "text": [
      "今天学习for循环\n",
      "开始讲for循环\n"
     ]
    }
   ],
   "source": [
    "#双向分支联系\n",
    "print(\"今天学习for循环\")\n",
    "gender = \"男\"\n",
    "if gender == \"女\" :\n",
    "    print(\"来，叔叔给你糖果吃\")\n",
    "\n",
    "print(\"开始讲for循环\")\n",
    "    "
   ]
  },
  {
   "cell_type": "code",
   "execution_count": null,
   "metadata": {
    "collapsed": true
   },
   "outputs": [],
   "source": []
  },
  {
   "cell_type": "markdown",
   "metadata": {},
   "source": [
    "### 双向分支\n",
    "- if ... else ...\n",
    "\n",
    "        if 条件表达式:\n",
    "            语句1\n",
    "            语句2\n",
    "            ...\n",
    "        else:\n",
    "            语句1\n",
    "            语句2\n",
    "            ...\n",
    "- 双向分支有两个分支，当程序执行到if .. else ..语句，一定会执行if...else中的一个，也仅执行一个。\n",
    "- 缩进问题，if 和esle 一个层级，其余语句一个层级"
   ]
  },
  {
   "cell_type": "code",
   "execution_count": 8,
   "metadata": {},
   "outputs": [
    {
     "name": "stdout",
     "output_type": "stream",
     "text": [
      "请输入性别：nv\n",
      "你输入的性别是：nv\n",
      "发糖果\n",
      "注意这一句\n",
      "开始上课喽\n"
     ]
    }
   ],
   "source": [
    "# input 即为输入的意思\n",
    "# 1. 在屏幕上输出括号内的字符串\n",
    "# 2. 接受用户输入的内容并返回到程序\n",
    "# 3. input 返回的内容一定字符串类型\n",
    "gender = input(\"请输入性别：\")\n",
    "print(\"你输入的性别是：{0}\".format(gender))\n",
    "\n",
    "if gender == \"nan\":\n",
    "    print(\"来，我们纪念一下今天把，代码敲十遍\")\n",
    "else :     # 千万记住，双向分支else 和if 是平级的，python在这个方面特别讲究   \n",
    "    print(\"发糖果\")\n",
    "    print(\"注意这一句\")  # 注意喽\n",
    "print(\"开始上课喽\")"
   ]
  },
  {
   "cell_type": "markdown",
   "metadata": {
    "collapsed": true
   },
   "source": [
    "- 一定要注意缩进，块区内的缩进一定要保持一直，Python很忌讳这个"
   ]
  },
  {
   "cell_type": "markdown",
   "metadata": {},
   "source": [
    "### 多项分支"
   ]
  },
  {
   "cell_type": "code",
   "execution_count": 17,
   "metadata": {},
   "outputs": [
    {
     "name": "stdout",
     "output_type": "stream",
     "text": [
      "请输入成绩分数：70\n",
      "良\n"
     ]
    }
   ],
   "source": [
    "# 考试成绩\n",
    "# 90以上：输出优秀\n",
    "# 80-90：输出良\n",
    "# 70-80： 中\n",
    "# 60-70 ：及格\n",
    "# 60一下：不及格大学士\n",
    "\n",
    "score = input(\"请输入成绩分数：\")# 这里输入的是字符串\n",
    "# 把输入的字符串转换为int类型\n",
    "score = int(score)\n",
    "if score >= 90: \n",
    "    print(\"优秀\")\n",
    "if score >= 70 and score < 90:\n",
    "    print(\"良\")\n",
    "if score >= 60 and score < 70:\n",
    "    print(\"及格\")\n",
    "if score < 60:\n",
    "    print(\"不及格大学士\")"
   ]
  },
  {
   "cell_type": "markdown",
   "metadata": {},
   "source": [
    "## 多路分支\n",
    "## 冷读术推荐一下\n",
    "- 很多路分支情况，简称多留分支\n",
    "\n",
    "        if 条件表达式：\n",
    "            语句1\n",
    "            ....\n",
    "        elif 条件表达式：\n",
    "            语句1\n",
    "            ....\n",
    "        elif 条件表达式：\n",
    "            语句1\n",
    "            ...\n",
    "            \n",
    "        ........\n",
    "        else:\n",
    "- elif可以由很多组成\n",
    "- else可选\n",
    "- 多路分支只会选一个执行\n",
    "- 这种语句最好不要用，容易把你绕晕"
   ]
  },
  {
   "cell_type": "code",
   "execution_count": 21,
   "metadata": {},
   "outputs": [
    {
     "name": "stdout",
     "output_type": "stream",
     "text": [
      "请输入成绩分数：50\n",
      "不及格大学士\n"
     ]
    }
   ],
   "source": [
    "score = input(\"请输入成绩分数：\")# 这里输入的是字符串\n",
    "# 把输入的字符串转换为int类型\n",
    "score = int(score)\n",
    "if score >= 90: \n",
    "    print(\"优秀\")\n",
    "elif score >= 70 and score < 90:\n",
    "    print(\"良\")\n",
    "elif score >= 60 and score < 70:\n",
    "    print(\"及格\")\n",
    "else:\n",
    "    print(\"不及格大学士\")"
   ]
  },
  {
   "cell_type": "markdown",
   "metadata": {},
   "source": [
    "## if语句其他：\n",
    "- if语句可以嵌套使用，但是不推荐使用，主要是要别人能够理解\n",
    "- python 语句没有switch - case这点尤为注意"
   ]
  },
  {
   "cell_type": "markdown",
   "metadata": {},
   "source": [
    "# 循环语句\n",
    "- 重复执行某些固定动作或者处理基本固定食物\n",
    "- 分类\n",
    "    - for循环\n",
    "    - while循环\n",
    "## for循环\n",
    "- for循环\n",
    "\n",
    "        for 变量 in 序列:\n",
    "            语句1\n",
    "            语句2\n",
    "            ..\n",
    "            \n"
   ]
  },
  {
   "cell_type": "code",
   "execution_count": 27,
   "metadata": {},
   "outputs": [
    {
     "name": "stdout",
     "output_type": "stream",
     "text": [
      "zhongsan\n",
      "lisi\n",
      "wangwu\n",
      "zhaoliu\n"
     ]
    }
   ],
   "source": [
    "# 序列就是一列数字或者其他值，一般用中括号表示\n",
    "# 例如['zhongsan','lisi','wangwu','zhaoliu']\n",
    "\n",
    "# 打印学生列表\n",
    "for name in ['zhongsan','lisi','wangwu','zhaoliu']:\n",
    "    print(name)"
   ]
  },
  {
   "cell_type": "code",
   "execution_count": 38,
   "metadata": {},
   "outputs": [
    {
     "name": "stdout",
     "output_type": "stream",
     "text": [
      "wangwu\n",
      "wangwu你不是我的最爱\n",
      "laoer\n",
      "laoer你不是我的最爱\n",
      "minmin\n",
      "我的最爱minmin出现了\n"
     ]
    }
   ],
   "source": [
    "# 打印学生列表姓名\n",
    "# 如果是minmin，那肯定死我的最爱\n",
    "# 如果是别的学生，那是冷库拒绝她\n",
    "\n",
    "for name in ['wangwu','laoer','minmin']:\n",
    "    print(name)\n",
    "    if name == 'minmin':\n",
    "        print('我的最爱{0}出现了'.format('minmin'))\n",
    "    else:\n",
    "        print('{0}你不是我的最爱'.format(name))"
   ]
  },
  {
   "cell_type": "code",
   "execution_count": 42,
   "metadata": {},
   "outputs": [
    {
     "name": "stdout",
     "output_type": "stream",
     "text": [
      "1\n",
      "2\n",
      "3\n",
      "4\n",
      "5\n",
      "6\n",
      "7\n",
      "8\n",
      "9\n"
     ]
    }
   ],
   "source": [
    "# range联系\n",
    "# 打印从1-10的数字\n",
    "# 注意，一般在python中，如果由表示数字范围的两个数，一般是包含左边数字包含右边数字\n",
    "# randint是特例，他左右都包含\n",
    "# range函数在python2 和 python3 中有严重的区别\n",
    "\n",
    "for i in range(1,10):  #这里的小括号类似于区间的意思\n",
    "    print(i)"
   ]
  },
  {
   "cell_type": "markdown",
   "metadata": {},
   "source": [
    "## for-else语句\n",
    "- 当for循环结束的时候，会执行else语句\n",
    "- else语句是可选的\n",
    "- 这种语句较少用"
   ]
  },
  {
   "cell_type": "code",
   "execution_count": 45,
   "metadata": {},
   "outputs": [
    {
     "name": "stdout",
     "output_type": "stream",
     "text": [
      "wangwu\n",
      "wangwu你不是我的最爱\n",
      "laoer\n",
      "laoer你不是我的最爱\n",
      "minmin\n",
      "我的最爱minmin出现了\n",
      "别的都不是我的学生，不会再爱\n"
     ]
    }
   ],
   "source": [
    "# for-else语句\n",
    "# 打印列表中的同学\n",
    "# 如果没有子啊列表中，或者列表结束了，我们需要打印提示语句，表示不再的意思\n",
    "\n",
    "for name in ['wangwu','laoer','minmin']:\n",
    "    print(name)\n",
    "    if name == 'minmin':\n",
    "        print('我的最爱{0}出现了'.format('minmin'))\n",
    "    else:\n",
    "        print('{0}你不是我的最爱'.format(name))\n",
    "else:\n",
    "    print(\"别的都不是我的学生，不会再爱\")"
   ]
  },
  {
   "cell_type": "markdown",
   "metadata": {},
   "source": [
    "## 循环之break，contineu，pass\n",
    "- break：无条件结束整个循环，简称猝死\n",
    "- continue：无条件结束本次循环，从新进入下一轮循环\n",
    "- pass：表示路过，"
   ]
  },
  {
   "cell_type": "code",
   "execution_count": 59,
   "metadata": {},
   "outputs": [
    {
     "name": "stdout",
     "output_type": "stream",
     "text": [
      "没有找到还\n",
      "没有找到还\n",
      "没有找到还\n",
      "没有找到还\n",
      "没有找到还\n",
      "没有找到还\n",
      "我找到了7\n"
     ]
    }
   ],
   "source": [
    "# 在1-10的数字中，寻找数字7，一旦找到，打印出来，其余则什么都不做\n",
    "# python中，如果循环变量名称不重要，可以用吓唬县（_）代替\n",
    "for i in range(1,10):\n",
    "    if i == 7:\n",
    "        print(\"我找到了{0}\".format(i))\n",
    "        break\n",
    "    else:\n",
    "        print(\"没有找到还\")"
   ]
  },
  {
   "cell_type": "code",
   "execution_count": 63,
   "metadata": {},
   "outputs": [
    {
     "name": "stdout",
     "output_type": "stream",
     "text": [
      "2是偶数\n",
      "4是偶数\n",
      "6是偶数\n",
      "8是偶数\n"
     ]
    }
   ],
   "source": [
    "# 打印偶数出来1-10\n",
    "\n",
    "for i in range(1,10):\n",
    "    if i%2 == 1:\n",
    "        continue\n",
    "    else:\n",
    "        print('{0}是偶数'.format(i))\n"
   ]
  },
  {
   "cell_type": "code",
   "execution_count": 72,
   "metadata": {},
   "outputs": [
    {
     "name": "stdout",
     "output_type": "stream",
     "text": [
      "2是偶数\n",
      "4是偶数\n",
      "6是偶数\n",
      "8是偶数\n",
      "10是偶数\n"
     ]
    }
   ],
   "source": [
    "# continue语句 版本2\n",
    "# 在数字1-10中，寻找偶数\n",
    "# 本例完整显示了continue的用法和作用\n",
    "\n",
    "for i in range(1,11):\n",
    "     if i%2 == 1:\n",
    "        continue #如果是偶数就不执行这句因为if缩进有区别，直接取执行下一句不用else\n",
    "     print(\"{0}是偶数\".format(i))"
   ]
  },
  {
   "cell_type": "code",
   "execution_count": 80,
   "metadata": {},
   "outputs": [],
   "source": [
    "# pass例子，一般用于占位\n",
    "\n",
    "for i in range(1-11):\n",
    "    pass \n",
    "    print(\"dadadada我在这里\")\n",
    "    "
   ]
  },
  {
   "cell_type": "markdown",
   "metadata": {},
   "source": [
    "结束"
   ]
  }
 ],
 "metadata": {
  "kernelspec": {
   "display_name": "Python 3",
   "language": "python",
   "name": "python3"
  },
  "language_info": {
   "codemirror_mode": {
    "name": "ipython",
    "version": 3
   },
   "file_extension": ".py",
   "mimetype": "text/x-python",
   "name": "python",
   "nbconvert_exporter": "python",
   "pygments_lexer": "ipython3",
   "version": "3.6.3"
  }
 },
 "nbformat": 4,
 "nbformat_minor": 2
}
