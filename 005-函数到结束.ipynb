{
 "cells": [
  {
   "cell_type": "markdown",
   "metadata": {},
   "source": [
    "# 四类参数\n",
    "- 普通参数\n",
    "- 默认参数\n",
    "- 关键字参数\n",
    "- 收集参数\n",
    "\n",
    "## 关键字参数开始\n",
    "- 语法\n",
    "\n",
    "        def func(p1=v1, p2=v2,....):\n",
    "            func_body\n",
    "            \n",
    "        调用函数:\n",
    "        func(p1=value1, p2= value ,..... ):\n",
    "- 比较麻烦，但也有好处：\n",
    "    - 不容易混淆，一般实参和形参只是按照位置一一即可，容易出错\n",
    "    - 使用关键字参数，可以不考虑参数的位置"
   ]
  },
  {
   "cell_type": "code",
   "execution_count": 8,
   "metadata": {},
   "outputs": [
    {
     "name": "stdout",
     "output_type": "stream",
     "text": [
      "I am a student\n",
      "我叫18，我今年minmin，我住在我家\n",
      "I am a student\n",
      "我叫minmin，我今年18，我住在我家\n"
     ]
    }
   ],
   "source": [
    "# 关键字参数实例\n",
    "def stu(name, age, addr):\n",
    "    print(\"I am a student\")\n",
    "    print(\"我叫{0}，我今年{1}，我住在{2}\".format(name, age,addr))\n",
    "    \n",
    "n = \"minmin\"\n",
    "a = \"18\"\n",
    "addr = \"我家\"\n",
    "stu(a,n,addr)    #错误调用\n",
    "\n",
    "# 所以用关键字参数开始\n",
    "stu(name = n, addr = addr, age = a)\n"
   ]
  },
  {
   "cell_type": "markdown",
   "metadata": {},
   "source": [
    "## 收集参数\n",
    "- 把没有位置，不能和定义时的采纳数位置相对应的参数，放入一个特定的数据结构中\n",
    "- 语法\n",
    "        \n",
    "            def func(*args):\n",
    "                func_body\n",
    "                按照list使用方式方位args得到传入的参数\n",
    "                \n",
    "            调用：\n",
    "            func(p1, p2, p3, ...)\n",
    "- 参数名args不是必须这么写，但是，我们推荐直接用args，约定俗成\n",
    "- 参数名args前需要有 * 号\n",
    "- 收集参数可以和其他参数共存"
   ]
  },
  {
   "cell_type": "code",
   "execution_count": 12,
   "metadata": {},
   "outputs": [
    {
     "name": "stdout",
     "output_type": "stream",
     "text": [
      "hello 大家好，我做个自我介绍，简单说两句\n",
      "<class 'tuple'>\n",
      "minmin\n",
      "18\n",
      "云南红河\n",
      "强\n",
      "单身\n",
      "hello 大家好，我做个自我介绍，简单说两句\n",
      "<class 'tuple'>\n",
      "强大神\n"
     ]
    }
   ],
   "source": [
    "# 收集参数代码\n",
    "# 函数模拟一个学生进行自我介绍，但具体内容不清楚\n",
    "def stu( *args):\n",
    "    print(\"hello 大家好，我做个自我介绍，简单说两句\")\n",
    "    # type函数作用是检测变量类型\n",
    "    print(type(args)) #打印类型\n",
    "    for item in args:\n",
    "        print(item)\n",
    "# args是一个list\n",
    "stu(\"minmin\", 18, \"云南红河\", \"强\", \"单身\")\n",
    "stu(\"强大神\")\n",
    "    "
   ]
  },
  {
   "cell_type": "code",
   "execution_count": 15,
   "metadata": {},
   "outputs": [
    {
     "name": "stdout",
     "output_type": "stream",
     "text": [
      "hello 大家好，我做个自我介绍，简单说两句\n",
      "<class 'tuple'>\n"
     ]
    }
   ],
   "source": [
    "# 收集参数案例\n",
    "# 说明收集参数可以不带任何实参调用，收集参数为空tuple\n",
    "stu()"
   ]
  },
  {
   "cell_type": "code",
   "execution_count": 16,
   "metadata": {},
   "outputs": [
    {
     "ename": "TypeError",
     "evalue": "stu() got an unexpected keyword argument 'name'",
     "output_type": "error",
     "traceback": [
      "\u001b[0;31m---------------------------------------------------------------------------\u001b[0m",
      "\u001b[0;31mTypeError\u001b[0m                                 Traceback (most recent call last)",
      "\u001b[0;32m<ipython-input-16-8cf771bd1f56>\u001b[0m in \u001b[0;36m<module>\u001b[0;34m()\u001b[0m\n\u001b[1;32m      1\u001b[0m \u001b[0;31m# 如果使用关键字参数格式调用，会出现问题\u001b[0m\u001b[0;34m\u001b[0m\u001b[0;34m\u001b[0m\u001b[0m\n\u001b[0;32m----> 2\u001b[0;31m \u001b[0mstu\u001b[0m\u001b[0;34m(\u001b[0m\u001b[0mname\u001b[0m \u001b[0;34m=\u001b[0m \u001b[0;34m\"liuying\"\u001b[0m\u001b[0;34m)\u001b[0m\u001b[0;34m\u001b[0m\u001b[0m\n\u001b[0m",
      "\u001b[0;31mTypeError\u001b[0m: stu() got an unexpected keyword argument 'name'"
     ]
    }
   ],
   "source": [
    "# 如果使用关键字参数格式调用，会出现问题\n",
    "stu(name = \"liuying\")"
   ]
  },
  {
   "cell_type": "markdown",
   "metadata": {},
   "source": [
    "### 收集参数之关键字收集参数\n",
    "- 把关键字参数按字典格式存入收集参数\n",
    "- 语法：\n",
    "\n",
    "        def func( **kwargs):\n",
    "            func_body\n",
    "        \n",
    "        # 调用：\n",
    "        func(p1 = v1, p2 = v2, ....)\n",
    "- kwargs一般约定俗成\n",
    "- 调用的时候，把多余的关键字参数放入kwargs\n",
    "- 访问kwagrs需要字典格式方位\n",
    "       "
   ]
  },
  {
   "cell_type": "code",
   "execution_count": 28,
   "metadata": {},
   "outputs": [
    {
     "name": "stdout",
     "output_type": "stream",
     "text": [
      "hello，大家好，我先自我介绍一下\n",
      "<class 'dict'>\n",
      "namr ****** liulei\n",
      "age ****** 19\n",
      "addr ****** 云南红河\n",
      "***********\n",
      "********************\n"
     ]
    }
   ],
   "source": [
    "# 收集参数案例\n",
    "# 自我介绍\n",
    "# 调用时候需要使用关键字参数调用\n",
    "def stu(**kwargs):\n",
    "    # 在函数体内对于kwargs的使用不用带 * 号\n",
    "    print(\"hello，大家好，我先自我介绍一下\")\n",
    "    # 对于字典的访问，ｐｙｔｈｏｎ２与ｐｙｔｈｏｎ３是用区别的\n",
    "    print(type(kwargs))\n",
    "    # 输出类型ｄｉｃｔ\n",
    "    for k,v in kwargs.items():\n",
    "        print(k, \"******\", v)\n",
    "\n",
    "stu(namr = \"liulei\", age = 19 , addr = \"云南红河\")# 这里定义了名称名\n",
    "print(\"***********\")\n",
    "print(\"*\" * 20)  # 二十遍打印"
   ]
  },
  {
   "cell_type": "markdown",
   "metadata": {},
   "source": [
    "### 收集参数混合调用的顺序问题\n",
    "- 收集参数，关键字参数，普通参数可以混淆使用\n",
    "- 使用规则就是，普通参数和关键字参数有限\n",
    "- 定义的时候一般找普通参数，关键字参数，收集参数ｔｕｐｌｅ，收集参数ｄｉｃｔ"
   ]
  },
  {
   "cell_type": "code",
   "execution_count": 54,
   "metadata": {},
   "outputs": [
    {
     "name": "stdout",
     "output_type": "stream",
     "text": [
      "ｈｅllo 大家好\n",
      "我叫liuying,我今年19大了。\n",
      "我么有爱好，可能以后会有\n",
      "********************\n",
      "##############################\n",
      "ｈｅllo 大家好\n",
      "我叫liuying,我今年19大了。\n",
      "我的爱好是看书\n",
      "********************\n",
      "##############################\n",
      "ｈｅllo 大家好\n",
      "我叫liuying,我今年19大了。\n",
      "我的爱好是看书\n",
      "********************\n",
      "王敏\n",
      "刘倩\n",
      "##############################\n",
      "hobby2 ---- 有用\n",
      "hobby3 ---- 滑雪\n"
     ]
    }
   ],
   "source": [
    "# 收集参数混合调用案例\n",
    "# 　ｓｔｕ模拟一个学生自我介绍\n",
    "def stu(name, age, *args, hobby=\"没有\", **kwargs):\n",
    "    print(\"ｈｅllo 大家好\")\n",
    "    print(\"我叫{0},我今年{1}大了。\".format(name,age))\n",
    "    if hobby == \"没有\":\n",
    "        print(\"我么有爱好，可能以后会有\")\n",
    "    else:\n",
    "        print(\"我的爱好是{0}\".format(hobby))\n",
    "    print(\"*\" * 20)\n",
    "    for i in args:\n",
    "        print(i)\n",
    "    \n",
    "    print(\"#\" * 30)\n",
    "    \n",
    "    for k,v in kwargs.items():\n",
    "        print(k, \"----\", v)\n",
    "        \n",
    "\n",
    "# 调用函数\n",
    "name = \"liuying\"\n",
    "age = 19\n",
    "stu(name, age)\n",
    "\n",
    "#　收集参数\n",
    "stu(name, age, hobby = \"看书\")\n",
    "\n",
    "# 关键字收集参数\n",
    "stu(name, age, \"王敏\", \"刘倩\", hobby = \"看书\", hobby2 = \"有用\", hobby３ = \"滑雪\")"
   ]
  },
  {
   "cell_type": "markdown",
   "metadata": {},
   "source": [
    "### 收集参数的解包问题\n",
    "- 把参数放入list中，直接把list/dict中的值放入收集参数中\n",
    "- 语法：看案例"
   ]
  },
  {
   "cell_type": "code",
   "execution_count": 63,
   "metadata": {},
   "outputs": [
    {
     "name": "stdout",
     "output_type": "stream",
     "text": [
      "哈哈哈哈\n",
      "liuying\n",
      "liuxiaoqiang\n",
      "19\n",
      "20\n",
      "哈哈哈哈\n",
      "['liuying', 20, 230]\n",
      "******************************\n",
      "哈哈哈哈\n",
      "liuying\n",
      "20\n",
      "230\n"
     ]
    }
   ],
   "source": [
    "# 收集参数的解包问题\n",
    "\n",
    "def stu(*args):\n",
    "    print(\"哈哈哈哈\")\n",
    "    for i in args:\n",
    "        print(i)\n",
    "stu(\"liuying\", \"liuxiaoqiang\", 19, 20)\n",
    "l = list()\n",
    "l.append(\"liuying\")\n",
    "l.append(20)\n",
    "l.append(230)\n",
    "\n",
    "stu(l)\n",
    "# 打印结果是一个列表list ，他是以独立对象传进去的，所以打印结果其实是列表本身，循环体\n",
    "# 只会循环一次，可以说这个列表被放入函数形参列表里边去了\n",
    "# 传一个打印一个，传一双打印一双\n",
    "print(\"*\" * 30)\n",
    "stu(*l)\n",
    "# 这个时候传递的是地址，类似于c语言里边的函数地址，传递过去的是地址，函数查询到的是底层的东西"
   ]
  },
  {
   "cell_type": "markdown",
   "metadata": {},
   "source": [
    "# 函数文档\n",
    "- 函数的文档作用是对于当前函数提供使用相关的参考信息\n",
    "- 文档的写法：\n",
    "    - 在函数内部开始第一行用三个引号字符串定义符\n",
    "    - 一般具有特定格式\n",
    "    - 请看案例\n",
    "- 文档查看\n",
    "    - 使用help函数，刑辱help（func）\n",
    "    - 使用__doc__,参考案例"
   ]
  },
  {
   "cell_type": "code",
   "execution_count": 72,
   "metadata": {},
   "outputs": [
    {
     "name": "stdout",
     "output_type": "stream",
     "text": [
      "*********\n",
      "Help on function stu in module __main__:\n",
      "\n",
      "stu(name, age, *args)\n",
      "    这是说明文档\n",
      "    这是第二行\n",
      "    这是第三行\n",
      "\n"
     ]
    }
   ],
   "source": [
    "# 文档案例\n",
    "# 函数stu是个模拟一个学生自我介绍的内容\n",
    "def stu(name, age, *args):\n",
    "    '''\n",
    "    这是说明文档\n",
    "    这是第二行\n",
    "    这是第三行\n",
    "    '''\n",
    "    print(\"这是一个函数\")\n",
    "stu.__doc__\n",
    "print(\"*********\")\n",
    "help(stu)"
   ]
  }
 ],
 "metadata": {
  "kernelspec": {
   "display_name": "Python 3",
   "language": "python",
   "name": "python3"
  },
  "language_info": {
   "codemirror_mode": {
    "name": "ipython",
    "version": 3
   },
   "file_extension": ".py",
   "mimetype": "text/x-python",
   "name": "python",
   "nbconvert_exporter": "python",
   "pygments_lexer": "ipython3",
   "version": "3.6.3"
  }
 },
 "nbformat": 4,
 "nbformat_minor": 2
}
