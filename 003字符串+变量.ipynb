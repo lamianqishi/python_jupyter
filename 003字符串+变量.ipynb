{
 "cells": [
  {
   "cell_type": "markdown",
   "metadata": {},
   "source": [
    "# 字符串\n",
    "- 转移字符\n",
    "- 格式化\n",
    "- 内建函数(后证)\n",
    "## 转义字符\n",
    "- 用一个特殊的方法表示出一系列不方便写出的内容，比如回车键，换行键，换行键，退格键\n",
    "- 借助反斜杠字符，一旦字符串中出现反斜杠，则反斜杠后面一个或者几个字符表示已经不是原来的字符串的意思了\n",
    "- 子字符串中，一旦出现犯些干就要加倍小心，可能会出现转义字符\n",
    "- 不同西荣对换行操作有不同的表示\n",
    "    - windows： \\n\n",
    "    - linux： \\r\\n ，这种情况具体情况具体分析了"
   ]
  },
  {
   "cell_type": "code",
   "execution_count": 11,
   "metadata": {},
   "outputs": [
    {
     "name": "stdout",
     "output_type": "stream",
     "text": [
      "i love you minmin\n",
      "Let's go\n",
      "Let's go\n",
      "\\\n",
      "c:\\user\n",
      "i love \n",
      " minmin\n"
     ]
    }
   ],
   "source": [
    "s = \"i love you minmin\"\n",
    "print(s)\n",
    "\n",
    "# 如果想表示出Let' go 来\n",
    "# 1. 可以使用嵌套引导\n",
    "# 2. 转移字符\n",
    "\n",
    "str1 = \"Let's go\"\n",
    "str2 = 'Let\\'s go' \n",
    "str3 = '\\\\'#表示单反斜杠的方法\n",
    "str4 = 'c:\\\\user'#两个反斜杠表示\\\n",
    "print(str1)\n",
    "print(str2)\n",
    "print(str3)\n",
    "print(str4)\n",
    "\n",
    "#回车换行\n",
    "s1 = \"i love \\n minmin\"\n",
    "print(s1)"
   ]
  },
  {
   "cell_type": "markdown",
   "metadata": {},
   "source": [
    "## 字符串格式化\n",
    "- 把字符串按照一定格式打印或者填充\n",
    "- 格式化由两种方法\n",
    "    - 利用百分号(%)\n",
    "    - 利用format 函数\n",
    "    "
   ]
  },
  {
   "cell_type": "code",
   "execution_count": 12,
   "metadata": {
    "collapsed": true
   },
   "outputs": [],
   "source": [
    "s = \"xxxx 您好，杨老师开课了\"\n",
    "name = \"minmin\""
   ]
  },
  {
   "cell_type": "markdown",
   "metadata": {},
   "source": [
    "### 利用百分号格式化\n",
    "- 在字符串中，利用%表示一个特殊的含义，表示对字符串进行格式化\n",
    "- %d：此处应该放入一个证书\n",
    "- %s：表示此处应该放入一个字符串"
   ]
  },
  {
   "cell_type": "code",
   "execution_count": 14,
   "metadata": {},
   "outputs": [
    {
     "name": "stdout",
     "output_type": "stream",
     "text": [
      "i love %s\n"
     ]
    }
   ],
   "source": [
    "s = \"i love %s\"\n",
    "# 下面打印，直接把%s作为字符串打印出来了\n",
    "print(s)\n"
   ]
  },
  {
   "cell_type": "code",
   "execution_count": 17,
   "metadata": {},
   "outputs": [
    {
     "name": "stdout",
     "output_type": "stream",
     "text": [
      "i love minmin\n"
     ]
    }
   ],
   "source": [
    "print(\"i love %s\"%\"minmin\")"
   ]
  },
  {
   "cell_type": "code",
   "execution_count": 19,
   "metadata": {},
   "outputs": [
    {
     "name": "stdout",
     "output_type": "stream",
     "text": [
      "i love minmin\n"
     ]
    }
   ],
   "source": [
    "s = \"i love %s\"\n",
    "print(s%\"minmin\")"
   ]
  },
  {
   "cell_type": "code",
   "execution_count": 25,
   "metadata": {},
   "outputs": [
    {
     "name": "stdout",
     "output_type": "stream",
     "text": [
      "i am %d year old\n",
      "i am 18 year old\n"
     ]
    }
   ],
   "source": [
    "s = \"i am %d year old\"\n",
    "#留一下面两句话的区别和结果\n",
    "print(s)\n",
    "print(s%18)# 就是上一句中把百分号后边的词替换为词句百分号后边的后面的词\n"
   ]
  },
  {
   "cell_type": "code",
   "execution_count": 27,
   "metadata": {},
   "outputs": [
    {
     "name": "stdout",
     "output_type": "stream",
     "text": [
      "i am %s,i am %d years old\n"
     ]
    },
    {
     "ename": "TypeError",
     "evalue": "not enough arguments for format string",
     "output_type": "error",
     "traceback": [
      "\u001b[0;31m---------------------------------------------------------------------------\u001b[0m",
      "\u001b[0;31mTypeError\u001b[0m                                 Traceback (most recent call last)",
      "\u001b[0;32m<ipython-input-27-3750eb8c5c0e>\u001b[0m in \u001b[0;36m<module>\u001b[0;34m()\u001b[0m\n\u001b[1;32m      3\u001b[0m \u001b[0;31m# 注意下变表达式出错的原因\u001b[0m\u001b[0;34m\u001b[0m\u001b[0;34m\u001b[0m\u001b[0m\n\u001b[1;32m      4\u001b[0m \u001b[0;31m#如果字符串中有占位符。则有几个占位符就必须用几个实际内容替代，或者一个也不要\u001b[0m\u001b[0;34m\u001b[0m\u001b[0;34m\u001b[0m\u001b[0m\n\u001b[0;32m----> 5\u001b[0;31m \u001b[0mprint\u001b[0m\u001b[0;34m(\u001b[0m\u001b[0ms\u001b[0m\u001b[0;34m%\u001b[0m\u001b[0;34m\"YYq\"\u001b[0m\u001b[0;34m%\u001b[0m\u001b[0;36m18\u001b[0m\u001b[0;34m)\u001b[0m\u001b[0;34m\u001b[0m\u001b[0m\n\u001b[0m",
      "\u001b[0;31mTypeError\u001b[0m: not enough arguments for format string"
     ]
    }
   ],
   "source": [
    "s = \"i am %s,i am %d years old\"\n",
    "print(s)\n",
    "# 注意下变表达式出错的原因\n",
    "#如果字符串中有占位符。则有几个占位符就必须用几个实际内容替代，或者一个也不要\n",
    "print(s%\"YYq\"%18)"
   ]
  },
  {
   "cell_type": "code",
   "execution_count": 31,
   "metadata": {},
   "outputs": [
    {
     "name": "stdout",
     "output_type": "stream",
     "text": [
      "i am %s,i am %d years old\n",
      "i am yyq,i am 26 years old\n"
     ]
    }
   ],
   "source": [
    "s = \"i am %s,i am %d years old\"\n",
    "print(s)\n",
    "print(s%(\"yyq\",26))#如果出现多个就用括号括起来"
   ]
  },
  {
   "cell_type": "markdown",
   "metadata": {},
   "source": [
    "### format函数格式化字符串\n",
    "- 直接用format函数进行格式化\n",
    "- 推荐使用这种方法\n",
    "- 在使用上，以{}和：代替%号，后面用format带参数完成"
   ]
  },
  {
   "cell_type": "code",
   "execution_count": 34,
   "metadata": {},
   "outputs": [
    {
     "name": "stdout",
     "output_type": "stream",
     "text": [
      "i love minmin_s\n",
      "yes, i a, 18 years old, i love minmin_ss and i am 18 years old\n"
     ]
    }
   ],
   "source": [
    "s = \"i love {}\".format(\"minmin_s\")\n",
    "print(s)\n",
    "#替换方式{0}为一号。{1}为2号\n",
    "s = \"yes, i a, {1} years old, i love {0} and i am {1} years old\".format(\"minmin_ss\",18)\n",
    "print(s)"
   ]
  },
  {
   "cell_type": "markdown",
   "metadata": {},
   "source": [
    "## None\n",
    "- None表示什么都没有\n",
    "- 如果函数没有返回值，可以返回 None\n",
    "- 用来占位置\n",
    "- 用来接触变量绑定"
   ]
  },
  {
   "cell_type": "markdown",
   "metadata": {},
   "source": [
    "# 表达式\n",
    "- 由一个或者几个数字或者变量和运算符组合成的一行代码\n",
    "- 通常会返回一个结果\n",
    "# 运算符\n",
    "- 由一个以上的值经过变化得到新值的过程就叫运算\n",
    "- 用于运算的符号叫运算符\n",
    "- 运算符分类：\n",
    "    - 算数运算符\n",
    "    - 比较运算符或者关系运算符\n",
    "    - 赋值运算符\n",
    "    - 逻辑运算符\n",
    "    - 位运算\n",
    "    - 成员运算符\n",
    "    - 运算符"
   ]
  },
  {
   "cell_type": "markdown",
   "metadata": {},
   "source": [
    "## 算数运算符\n",
    "- 进行计算的运算符号\n",
    "- 加减乘出+-×/\n",
    "- 除法要注意\n",
    "    - 取余\n",
    "    - 取整\n",
    "- 幂运算，指数运算\n",
    "- python没有自减运算符！！！！"
   ]
  },
  {
   "cell_type": "code",
   "execution_count": 43,
   "metadata": {},
   "outputs": [
    {
     "name": "stdout",
     "output_type": "stream",
     "text": [
      "2.25\n",
      "3.3333333333333335\n",
      "3\n",
      "6\n",
      "6561\n"
     ]
    }
   ],
   "source": [
    "# 除法\n",
    "a = 9/4\n",
    "#/在python2和python3中是不一样的，此处以3系列为主\n",
    "print(a)\n",
    "a = 10/3\n",
    "print(a)\n",
    "\n",
    "#取余运算\n",
    "b = 9%6\n",
    "print(b)\n",
    "\n",
    "#取整\n",
    "c = 13//2\n",
    "print(c)\n",
    "\n",
    "#幂运算\n",
    "d = 9**4\n",
    "print(d)\n",
    "\n"
   ]
  },
  {
   "cell_type": "markdown",
   "metadata": {},
   "source": [
    "## 比较运算符\n",
    "- 对两个变量或者值进行比较的运算符\n",
    "- 比较云算法比较的结果是布尔值，即True or False"
   ]
  },
  {
   "cell_type": "code",
   "execution_count": 47,
   "metadata": {},
   "outputs": [
    {
     "name": "stdout",
     "output_type": "stream",
     "text": [
      "False\n",
      "True\n"
     ]
    }
   ],
   "source": [
    "# == ，等于号\n",
    "a = 3**4\n",
    "b = a == 80\n",
    "print(b)\n",
    "\n",
    "#不等于 !=\n",
    "\n",
    "print(9 != 8)\n",
    "\n",
    "#><符号此处不介绍了\n",
    "#大于>\n",
    "#小于<\n",
    "#大于等于>=\n",
    "#小于等于<="
   ]
  },
  {
   "cell_type": "markdown",
   "metadata": {},
   "source": [
    "## 赋值运算符"
   ]
  },
  {
   "cell_type": "code",
   "execution_count": 49,
   "metadata": {},
   "outputs": [
    {
     "name": "stdout",
     "output_type": "stream",
     "text": [
      "7\n"
     ]
    }
   ],
   "source": [
    "# = ， 赋值号\n",
    "a = 0\n",
    "# += 是缩写\n",
    "a = 0\n",
    "a += 7 #等价于a = a + 7\n",
    "print(a)\n",
    "#所有的数学运算符都有此种运算符形式\n",
    "# -=, *= , /= ,%= ,//="
   ]
  },
  {
   "cell_type": "markdown",
   "metadata": {},
   "source": [
    "## 逻辑运算符\n",
    "- 对布尔值进行计算的符号\n",
    "- and 逻辑与\n",
    "- or 逻辑或\n",
    "- not 逻辑非\n",
    "- python中逻辑运算符没有异或，同或\n",
    "- 运算规则\n",
    "    - and 看做乘法\n",
    "    - or 看做加法\n",
    "    - True看做1，False看做0\n",
    "    - 最后结果为0则为False ，否则为True\n",
    "- 逻辑运算的短路问题\n",
    "    - 逻辑运算狮，按照运算顺序计算，一旦能够确定整个狮子未来的值，则不再进行计算，直接返回"
   ]
  },
  {
   "cell_type": "code",
   "execution_count": 53,
   "metadata": {},
   "outputs": [
    {
     "name": "stdout",
     "output_type": "stream",
     "text": [
      "True\n"
     ]
    }
   ],
   "source": [
    "#逻辑运算符demom\n",
    "a = True\n",
    "b = False\n",
    "c = True\n",
    "d = True\n",
    "\n",
    "d = a and b or d and c\n",
    "print(d)"
   ]
  },
  {
   "cell_type": "code",
   "execution_count": 56,
   "metadata": {},
   "outputs": [
    {
     "name": "stdout",
     "output_type": "stream",
     "text": [
      "True\n",
      "False\n"
     ]
    }
   ],
   "source": [
    "# 逻辑运算的短路案例\n",
    "\n",
    "# 下面的逻辑表达式，a的值一定是True，则运行到or的时候，整个表达式不再向下计算\n",
    "a = True or xxxxxxxxxxxx\n",
    "print(a)\n",
    "\n",
    "#\n",
    "b = False and xxxxxxxx\n",
    "print(b)"
   ]
  },
  {
   "cell_type": "markdown",
   "metadata": {},
   "source": [
    "## 成员运算符号\n",
    "- 用来检测某一个变量是否是另一个变量的成员\n",
    "- in\n",
    "- not in"
   ]
  },
  {
   "cell_type": "code",
   "execution_count": 60,
   "metadata": {},
   "outputs": [
    {
     "name": "stdout",
     "output_type": "stream",
     "text": [
      "False\n",
      "True\n"
     ]
    }
   ],
   "source": [
    "# demon\n",
    "l = [1,2,3,4,5]\n",
    "a = 7\n",
    "b = a in l\n",
    "print(b)\n",
    "b = a not in l\n",
    "print(b)"
   ]
  },
  {
   "cell_type": "markdown",
   "metadata": {},
   "source": [
    "## 身份运算符\n",
    "- 用来检测两个变量是否是同一个变量\n",
    "    - 语法就是 var1 is var2\n",
    "    - is not 为不是 var1 is not var2"
   ]
  },
  {
   "cell_type": "code",
   "execution_count": 64,
   "metadata": {},
   "outputs": [
    {
     "name": "stdout",
     "output_type": "stream",
     "text": [
      "True\n",
      "False\n"
     ]
    }
   ],
   "source": [
    "#身份运算符\n",
    "a = 9\n",
    "b = 9\n",
    "print(a is b)\n",
    "\n",
    "a = \"i love minmin\"\n",
    "b = \"i love minmin\"\n",
    "print(a is b)\n"
   ]
  },
  {
   "cell_type": "markdown",
   "metadata": {},
   "source": [
    "## 运算符的优先级\n",
    "- 永远记住，括号具有最高优先级\n",
    "- 优先级表格\n",
    "    ** 指数（最高优先级）\n",
    "    ~ + - 按位翻转，一元加号和减号（最后两个的方法名为 +@ 和 -@）\n",
    "    / * % //  乘，除，取模。和整除\n",
    "    加法减法 + -\n",
    "    >><< 右移，左移运算符\n",
    "    & 位 AND\n",
    "    ^ | 位运算符\n",
    "    <= < > >= 比较运算符\n",
    "    <> == != 等于运算符\n",
    "    = %= /= //= .= += *= **= 赋值运算符\n",
    "    is is not 身份运算符\n",
    "    in not in 成员运算符\n",
    "    not or and 逻辑运算符"
   ]
  },
  {
   "cell_type": "markdown",
   "metadata": {},
   "source": [
    "# 程序结果\n",
    "- 顺序\n",
    "- 分支\n",
    "- 循环"
   ]
  }
 ],
 "metadata": {
  "kernelspec": {
   "display_name": "Python 3",
   "language": "python",
   "name": "python3"
  },
  "language_info": {
   "codemirror_mode": {
    "name": "ipython",
    "version": 3
   },
   "file_extension": ".py",
   "mimetype": "text/x-python",
   "name": "python",
   "nbconvert_exporter": "python",
   "pygments_lexer": "ipython3",
   "version": "3.6.3"
  }
 },
 "nbformat": 4,
 "nbformat_minor": 2
}
