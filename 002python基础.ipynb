{
 "cells": [
  {
   "cell_type": "markdown",
   "metadata": {},
   "source": [
    "# 环境安装\n",
    "- 推荐Virtualbox + Ubuntu\n",
    "- 套件推荐 anaconda + pycharm\n",
    "- 内存大于4G，推荐虚拟机下启动系统\n",
    "- 小鱼4G的话，推荐使用windows下的 anaconda + pycharm"
   ]
  },
  {
   "cell_type": "code",
   "execution_count": 6,
   "metadata": {},
   "outputs": [
    {
     "name": "stdout",
     "output_type": "stream",
     "text": [
      "大家好，我是杨老师！哈哈\n"
     ]
    },
    {
     "data": {
      "text/plain": [
       "'\\n这里是块\\n注释区\\n'"
      ]
     },
     "execution_count": 6,
     "metadata": {},
     "output_type": "execute_result"
    }
   ],
   "source": [
    "#代码作用\n",
    "# 1.给人看\n",
    "# 2.给机器看\n",
    "# 注释给人看\n",
    "\n",
    "\n",
    "print(\"大家好，我是杨老师！哈哈\") #代买注释，打印字符串\n",
    "\n",
    "'''\n",
    "这里是块\n",
    "注释区\n",
    "'''\n"
   ]
  },
  {
   "cell_type": "markdown",
   "metadata": {},
   "source": [
    "# 注释\n",
    "- 机器不去执行注释内容\n",
    "- 注释一般用自然语言书写、\n",
    "- 注释的写法：\n",
    "    - 行注释： 以#号开头，可以单独行，也可以在某行代码后边\n",
    "    - 块注释： 好几行代码注释内容，以三个连续单引号或者双引号开始和结束"
   ]
  },
  {
   "cell_type": "markdown",
   "metadata": {},
   "source": [
    "# 变量\n",
    "- 程序 = 数据结构 + 算法\n",
    "- 变量名规则\n",
    "    - 变量名可以包含数字字母下划线，、\n",
    "    - 数字不可以大头\n",
    "        - 4man，5for是不可以的\n",
    "        - man4就可以\n",
    "    - 一般在python中，以下划线开头的内容具有特殊含义，不建议使用\n",
    "        - 比如 _age, _ame,理论可以，但不推荐使用\n",
    "    - 大小写不一样\n",
    "        - ForMan 跟forMan 不是同一个变量名\n",
    "    - 推荐\n",
    "        - 使用具有固定含义的英文单词或者缩写， srv = server skt = socket一般以psix明明规则\n",
    "        - 驼峰命名法\n",
    "            - 名称以单词自动连接，且每个单词首字母大写\n",
    "                - 大驼峰，每个单词第一个字母都大写\n",
    "                    - 在python中类的命名使用此法\n",
    "                    - MyFirst ，IntOne\n",
    "                - 小驼峰，类似大驼峰，但是第一个字母小写\n",
    "                    - 在python中一般给普通变量或者函数命名\n",
    "                    - myFirstLove， intOne\n",
    "                - posix写法\n",
    "                    - 多个单词用下划线链接\n",
    "                    - 单词全部小写\n",
    "                    - my_first_love ,int_one\n",
    "    - 保留字和关键字\n",
    "        - 变量名必须避开，不能跟关键字和保留字重复\n",
    "        - class ， def ， break ， for\n",
    "        \n"
   ]
  },
  {
   "cell_type": "code",
   "execution_count": 9,
   "metadata": {},
   "outputs": [
    {
     "name": "stdout",
     "output_type": "stream",
     "text": [
      "['False', 'None', 'True', 'and', 'as', 'assert', 'break', 'class', 'continue', 'def', 'del', 'elif', 'else', 'except', 'finally', 'for', 'from', 'global', 'if', 'import', 'in', 'is', 'lambda', 'nonlocal', 'not', 'or', 'pass', 'raise', 'return', 'try', 'while', 'with', 'yield']\n"
     ]
    }
   ],
   "source": [
    "#查看关键字的方法\n",
    "import keyword #引入关键字模块\n",
    "print(keyword.kwlist)\n"
   ]
  },
  {
   "cell_type": "markdown",
   "metadata": {},
   "source": [
    "## 变量名声明\n",
    "- var_name = var_value\n",
    "- var1 =var2 = var3 = var_value\n",
    "- var1,var2,var3 = v1,v2,v3 #成对的赋值"
   ]
  },
  {
   "cell_type": "code",
   "execution_count": 12,
   "metadata": {
    "scrolled": true
   },
   "outputs": [
    {
     "name": "stdout",
     "output_type": "stream",
     "text": [
      "18\n",
      "18\n",
      "18\n",
      "18\n",
      "18\n",
      "12\n",
      "21\n",
      "45\n"
     ]
    }
   ],
   "source": [
    "#定义变量age，把18放入变量age中\n",
    "age = 18\n",
    "print(age)\n",
    "print(18)\n",
    "\n",
    "#给age1，age2，age3 放入同一个内容赋值\n",
    "age1 = age2= age3 = 18\n",
    "print(age1)\n",
    "print(age2)\n",
    "print(age3)\n",
    "\n",
    "age4 , age5 ,age6 = 12, 21,45\n",
    "print(age4)\n",
    "print(age5)\n",
    "print(age6)"
   ]
  },
  {
   "cell_type": "markdown",
   "metadata": {},
   "source": [
    "## 变量类型\n",
    "- 严格意义上讲，python只有一个类型\n",
    "- 标准数据一共有六中数据类型\n",
    "    - Number数字类型\n",
    "    - 字符串类型 str\n",
    "    - 列表 list\n",
    "    - 元组 tuple\n",
    "    - 字典 dictionary\n",
    "    - 集合 set"
   ]
  },
  {
   "cell_type": "markdown",
   "metadata": {},
   "source": [
    "## Number数字类型\n",
    "- 数字类型\n",
    "### 整数\n",
    "- 没有小数部分，表示个数的数字\n",
    "- 自然数， 0 ，附属自然数\n",
    "- 证书分进制\n",
    "    - 二进制\n",
    "        - 计算机常用\n",
    "        - 是计算机唯一识别理解的数字\n",
    "        - 表示为： 0b开头的0,1代码\n",
    "        - 例如 ： 0b1001\n",
    "    - 八进制\n",
    "        - 不常用\n",
    "        - 以0o开头\n",
    "        - 例如 0o122\n",
    "    - 十六进制\n",
    "        - 继16进1\n",
    "        - 其实是每四位二进制表示一个十六进制\n",
    "        - 包含0-9，a-f\n",
    "        - 以0x开头： 0x12\n",
    "    - 十进制\n",
    "        - 18,789"
   ]
  },
  {
   "cell_type": "code",
   "execution_count": 23,
   "metadata": {},
   "outputs": [
    {
     "name": "stdout",
     "output_type": "stream",
     "text": [
      "18\n",
      "18\n",
      "18\n",
      "18\n"
     ]
    }
   ],
   "source": [
    "age = 18\n",
    "print(18)\n",
    "\n",
    "age = 0b10010 #二进制的十八\n",
    "print(age)\n",
    "\n",
    "age = 0o22\n",
    "print(age)\n",
    "\n",
    "age = 0x12\n",
    "print(age)\n",
    "\n",
    "      \n",
    "\n"
   ]
  },
  {
   "cell_type": "markdown",
   "metadata": {},
   "source": [
    "### 浮点数\n",
    "- 小数\n",
    "- 10.369 ， 3.1415926\n",
    "- 3.0也是\n",
    "- 0.5\n",
    "- .5\n",
    "- 科学计数法\n",
    "    - 定义跟数学定义一样的\n",
    "    - 写法是用e/E后面跟证书表示10的指数\n",
    "    - 0.876 等同于 8.76e-1\n"
   ]
  },
  {
   "cell_type": "code",
   "execution_count": 29,
   "metadata": {},
   "outputs": [
    {
     "name": "stdout",
     "output_type": "stream",
     "text": [
      "156.34\n",
      "729\n"
     ]
    }
   ],
   "source": [
    "height = 156.34\n",
    "print(height)\n",
    "\n",
    "time_birthday = 729\n",
    "print(time_birthday)"
   ]
  },
  {
   "cell_type": "markdown",
   "metadata": {},
   "source": [
    "### 复数\n",
    "- 等同于数学定义\n",
    "- 一个由实部和虚部组成的数字\n",
    "- 虚部用j/J表示\n",
    "- 5 + 3j\n",
    "- 3j 没有实部只有虚部"
   ]
  },
  {
   "cell_type": "markdown",
   "metadata": {},
   "source": [
    "### 布尔值\n",
    "- 表示真假\n",
    "- 真用True ，假用 False(记住是大写的)没有别的值了\n",
    "- 布尔值可以跟数字直接操作\n",
    "- 真就是1，假就是0"
   ]
  },
  {
   "cell_type": "code",
   "execution_count": 31,
   "metadata": {},
   "outputs": [
    {
     "name": "stdout",
     "output_type": "stream",
     "text": [
      "19\n"
     ]
    }
   ],
   "source": [
    "#布尔值操作\n",
    "age = 18 + True\n",
    "print(age)"
   ]
  },
  {
   "cell_type": "markdown",
   "metadata": {},
   "source": [
    "## 字符串\n",
    "- 用来表示一串文字信息\n",
    "- 如何表示\n",
    "    - 单引号\n",
    "    - 双引号\n",
    "    - 三引号（三个单引号或者三个双引号）\n",
    "- 单双引号可以交错使用"
   ]
  },
  {
   "cell_type": "code",
   "execution_count": 37,
   "metadata": {},
   "outputs": [
    {
     "name": "stdout",
     "output_type": "stream",
     "text": [
      "I love shaomin\n",
      "我爱王静静\n",
      "<a style = \"color:red\"> 哈哈哈</a>\n",
      "\n",
      "第一行\n",
      "第二行\n",
      "第三行\n",
      "\n",
      "\n"
     ]
    }
   ],
   "source": [
    "love = 'I love shaomin'\n",
    "print(love)\n",
    "\n",
    "love = \"我爱王静静\"\n",
    "print(love)\n",
    "\n",
    "#单双引号交错使用\n",
    "# <a style = \"color:red\"> 哈哈哈</a>\n",
    "#用引号表示上面字符串，这里引号出现歧义了，这种情况就会出现交错使用\n",
    "html = '<a style = \"color:red\"> 哈哈哈</a>'\n",
    "print(html)\n",
    "\n",
    "#表示多行\n",
    "htmls = '''\n",
    "第一行\n",
    "第二行\n",
    "第三行\n",
    "\n",
    "'''\n",
    "print(htmls)"
   ]
  }
 ],
 "metadata": {
  "kernelspec": {
   "display_name": "Python 3",
   "language": "python",
   "name": "python3"
  },
  "language_info": {
   "codemirror_mode": {
    "name": "ipython",
    "version": 3
   },
   "file_extension": ".py",
   "mimetype": "text/x-python",
   "name": "python",
   "nbconvert_exporter": "python",
   "pygments_lexer": "ipython3",
   "version": "3.6.3"
  }
 },
 "nbformat": 4,
 "nbformat_minor": 2
}
