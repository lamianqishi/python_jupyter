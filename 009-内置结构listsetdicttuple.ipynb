{
 "cells": [
  {
   "cell_type": "markdown",
   "metadata": {},
   "source": [
    "# 关于列表的函数"
   ]
  },
  {
   "cell_type": "code",
   "execution_count": 17,
   "metadata": {},
   "outputs": [
    {
     "data": {
      "text/plain": [
       "['dada', 'dadad', 45, 'minmin']"
      ]
     },
     "execution_count": 17,
     "metadata": {},
     "output_type": "execute_result"
    }
   ],
   "source": [
    "l = ['dada','dadad',45,'minmin']\n",
    "l"
   ]
  },
  {
   "cell_type": "code",
   "execution_count": 19,
   "metadata": {},
   "outputs": [
    {
     "name": "stdout",
     "output_type": "stream",
     "text": [
      "[1, 2, 3, 4]\n",
      "[1, 2, 3, 4, 100]\n"
     ]
    }
   ],
   "source": [
    "# append 插入一个内容\n",
    "a = [i for i in range(1,5)]\n",
    "print(a)\n",
    "a.append(100)\n",
    "print(a)"
   ]
  },
  {
   "cell_type": "code",
   "execution_count": 31,
   "metadata": {},
   "outputs": [
    {
     "name": "stdout",
     "output_type": "stream",
     "text": [
      "[1, 2, 3, 4, 5, 6]\n",
      "[1, 2, 3, 'io', 4, 5, 6]\n"
     ]
    }
   ],
   "source": [
    "# insert :指定位置插入\n",
    "# insert（index， data）\n",
    "a = [1,2,3,4,5,6]\n",
    "print(a)\n",
    "a.insert(3,'io')\n",
    "print(a)"
   ]
  },
  {
   "cell_type": "code",
   "execution_count": 34,
   "metadata": {},
   "outputs": [
    {
     "name": "stdout",
     "output_type": "stream",
     "text": [
      "[1, 2, 3, 4, 5, 6]\n",
      "[1, 2, 3, 4, 5]\n"
     ]
    }
   ],
   "source": [
    "# del 删除\n",
    "# del 删除\n",
    "# pop，从对位拿出一个元素，即把最后一个元素取出来\n",
    "a = [1,2,3,4,5,6]\n",
    "print(a)\n",
    "b = a.pop()\n",
    "print(a)"
   ]
  },
  {
   "cell_type": "code",
   "execution_count": 38,
   "metadata": {},
   "outputs": [
    {
     "name": "stdout",
     "output_type": "stream",
     "text": [
      "[1, 2, 3, 4, 5, 6]\n",
      "140129553850440\n",
      "140129553850440\n",
      "[1, 2, 4, 5, 6]\n"
     ]
    }
   ],
   "source": [
    "# remove : 在列表中删除指定的值的元素\n",
    "a = [1,2,3,4,5,6]\n",
    "print(a)\n",
    "print(id(a))\n",
    "a.remove(3)\n",
    "print(id(a))\n",
    "print(a)\n",
    "# id号还是一样，说明remove操作是子啊原list上直接操作\n",
    "# 比较删除前后id\n"
   ]
  },
  {
   "cell_type": "code",
   "execution_count": 40,
   "metadata": {},
   "outputs": [
    {
     "name": "stdout",
     "output_type": "stream",
     "text": [
      "[]\n",
      "140129553850440\n",
      "[]\n",
      "140129553850440\n"
     ]
    }
   ],
   "source": [
    "# clear ：清空\n",
    "print(a)\n",
    "print(id(a))\n",
    "a.clear()\n",
    "print(a)\n",
    "print(id(a))\n",
    "\n",
    "# 如果没有特殊原因不需要地址保持不变，则清空列表可以使用以下方式\n",
    "# a = list()\n",
    "# a = [] 但是这样的话列表地址变为了list了"
   ]
  },
  {
   "cell_type": "code",
   "execution_count": 45,
   "metadata": {},
   "outputs": [
    {
     "name": "stdout",
     "output_type": "stream",
     "text": [
      "[1, 2, 3, 4, 5, 6]\n",
      "140129554234056\n",
      "[6, 5, 4, 3, 2, 1]\n",
      "140129554234056\n"
     ]
    }
   ],
   "source": [
    "# reverse ： 翻转\n",
    "a = [1,2,3,4,5,6]\n",
    "print(a)\n",
    "print(id(a))\n",
    "a.reverse()\n",
    "print(a)\n",
    "print(id(a))"
   ]
  },
  {
   "cell_type": "code",
   "execution_count": 49,
   "metadata": {},
   "outputs": [
    {
     "name": "stdout",
     "output_type": "stream",
     "text": [
      "140129553852040\n",
      "140129553852040\n"
     ]
    }
   ],
   "source": [
    "# extend ： 扩展列表，两个列表，把一个直接拼接到最后一个上\n",
    "a = [1,2,3,4,5,6]\n",
    "b = [6,7,8,9,4,5]\n",
    "print(id(a))\n",
    "a.extend(b)\n",
    "print(id(a))\n"
   ]
  },
  {
   "cell_type": "code",
   "execution_count": 51,
   "metadata": {},
   "outputs": [
    {
     "name": "stdout",
     "output_type": "stream",
     "text": [
      "[1, 2, 3, 4, 8, 5, 6, 6, 7, 8, 9, 4, 5, 8]\n",
      "[1, 2, 3, 4, 8, 8, 5, 6, 6, 7, 8, 9, 4, 5, 8, 8]\n",
      "[1, 2, 3, 4, 8, 8, 5, 6, 6, 7, 8, 9, 4, 5, 8, 8]\n",
      "5\n"
     ]
    }
   ],
   "source": [
    "# count： 查找列表中的指定值或元素的个数\n",
    "print(a)\n",
    "a.append(8)\n",
    "a.insert(4,8)\n",
    "print(a)\n",
    "a_len = a.count(8)\n",
    "print(a)\n",
    "print(a_len)  # 有几个8"
   ]
  },
  {
   "cell_type": "code",
   "execution_count": 56,
   "metadata": {},
   "outputs": [
    {
     "name": "stdout",
     "output_type": "stream",
     "text": [
      "[1, 2, 3, 4, 5, 236]\n",
      "[1, 2, 3, 777, 5, 236]\n",
      "[1, 2, 3, 777, 5, 236]\n",
      "140129553735496\n",
      "140129553735496\n",
      "[1, 2, 3, 777, 5, 236]\n",
      "140129553735496\n",
      "[1, 2, 3, 777, 5, 236]\n",
      "140129554218760\n",
      "******************************\n",
      "[1, 2, 3, 777, 5, 236]\n",
      "[1, 2, 3, 888, 5, 236]\n"
     ]
    }
   ],
   "source": [
    "# copy:拷贝，浅拷贝\n",
    "# 列表类型变量赋值示例\n",
    "a = [1,2,3,4,5,236]\n",
    "print(a)\n",
    "b = a\n",
    "b[3] = 777\n",
    "print(a)\n",
    "print(b)\n",
    "\n",
    "print(id(a))\n",
    "print(id(b))\n",
    "# id地址不变,要改变地址即产生新变量就必须用copy函数\n",
    "b = a.copy()\n",
    "print(a)\n",
    "print(id(a))\n",
    "print(b)\n",
    "print(id(b))\n",
    "\n",
    "print(\"*\" * 30)\n",
    "b[3] = 888\n",
    "print(a)\n",
    "print(b)\n"
   ]
  },
  {
   "cell_type": "code",
   "execution_count": 63,
   "metadata": {},
   "outputs": [
    {
     "name": "stdout",
     "output_type": "stream",
     "text": [
      "140129553473224\n",
      "140129554234376\n",
      "140129553974984\n",
      "140129553974984\n",
      "[1, 2, 3, [10, 20, 666]]\n",
      "[1, 2, 3, [10, 20, 666]]\n",
      "94387240865024\n",
      "94387240865024\n"
     ]
    }
   ],
   "source": [
    "# 深拷贝与浅拷贝\n",
    "a = [1,2,3,[10,20,30]]\n",
    "b = a.copy()\n",
    "print(id(a))\n",
    "print(id(b))\n",
    "print(id(a[3]))\n",
    "print(id(b[3]))\n",
    "a[3][2] = 666\n",
    "print(a)\n",
    "print(b)\n",
    "print(id(a[1]))\n",
    "print(id(b[1]))\n",
    "\n",
    "#copy就是浅拷贝，其拷贝方式只是创造一个新变量，但是变量指向还是原变量元素地址\n",
    "\n",
    "# 深拷贝需要使用特定工具"
   ]
  },
  {
   "cell_type": "markdown",
   "metadata": {},
   "source": [
    "# 元祖-- tuple\n",
    "- 元祖可以看成一个不可更改的list\n",
    "## 元祖创建\n"
   ]
  },
  {
   "cell_type": "code",
   "execution_count": 71,
   "metadata": {},
   "outputs": [
    {
     "name": "stdout",
     "output_type": "stream",
     "text": [
      "<class 'tuple'>\n",
      "<class 'tuple'>\n",
      "(1,)\n",
      "<class 'int'>\n",
      "<class 'tuple'>\n",
      "******************************\n",
      "<class 'tuple'>\n"
     ]
    }
   ],
   "source": [
    "# 创建元祖\n",
    "t =()\n",
    "print(type(t))\n",
    "\n",
    "# 创建一个只有一个值的元祖\n",
    "t = (1,)\n",
    "print(type(t))\n",
    "print(t)\n",
    "\n",
    "t = 1\n",
    "print(type(t))\n",
    "\n",
    "t = 1,\n",
    "print(type(t))  # 注意上边的 t 的类型\n",
    "\n",
    "print(\"*\" * 30)\n",
    "l = [1,2,3,4,5,6]\n",
    "t = tuple(l)\n",
    "\n",
    "print(type(t))"
   ]
  },
  {
   "cell_type": "markdown",
   "metadata": {},
   "source": [
    "## 元祖的特性\n",
    "- 有序列表，有序\n",
    "- 元祖数据值可以访问，不能修改，不能修改！ 不能修改！\n",
    "- 元祖数据可以是任意类型\n",
    "- 总之，list所有特性，除了不可以修改外，元祖都具有\n",
    "- 也就意味着，list具有的一些操作，比如索引，分片，序列，相乘，成员资格操作"
   ]
  },
  {
   "cell_type": "code",
   "execution_count": 73,
   "metadata": {},
   "outputs": [
    {
     "name": "stdout",
     "output_type": "stream",
     "text": [
      "5\n"
     ]
    }
   ],
   "source": [
    "# 索引操作\n",
    "t = (1,2,3,4,5,6)\n",
    "print(t[4])"
   ]
  },
  {
   "cell_type": "code",
   "execution_count": 76,
   "metadata": {},
   "outputs": [
    {
     "name": "stdout",
     "output_type": "stream",
     "text": [
      "140129553471432\n",
      "140129553976648\n",
      "[2, 4, 6]\n"
     ]
    }
   ],
   "source": [
    "# 切片操作\n",
    "t = [1,2,3,4,5,6]\n",
    "t1 = t[1::2] #从下标1开始增长为2选取数字\n",
    "\n",
    "print(id(t))\n",
    "print(id(t1))\n",
    "print(t1)"
   ]
  },
  {
   "cell_type": "code",
   "execution_count": 81,
   "metadata": {},
   "outputs": [
    {
     "name": "stdout",
     "output_type": "stream",
     "text": [
      "(1, 2, 3)\n",
      "140129554331400\n",
      "(1, 2, 3, 5, 6, 7)\n",
      "140129554041064\n"
     ]
    }
   ],
   "source": [
    "# 序列想家\n",
    "t1 = (1,2,3)\n",
    "t2 = (5,6,7)\n",
    "print(t1)\n",
    "print(id(t1))\n",
    "# 传址操作\n",
    "t1 = t1 + t2\n",
    "print(t1)\n",
    "print(id(t1))\n",
    "\n"
   ]
  },
  {
   "cell_type": "code",
   "execution_count": 82,
   "metadata": {},
   "outputs": [
    {
     "ename": "IndentationError",
     "evalue": "unexpected indent (<ipython-input-82-05461e4d0eed>, line 3)",
     "output_type": "error",
     "traceback": [
      "\u001b[0;36m  File \u001b[0;32m\"<ipython-input-82-05461e4d0eed>\"\u001b[0;36m, line \u001b[0;32m3\u001b[0m\n\u001b[0;31m    t1[1] = 100\u001b[0m\n\u001b[0m    ^\u001b[0m\n\u001b[0;31mIndentationError\u001b[0m\u001b[0;31m:\u001b[0m unexpected indent\n"
     ]
    }
   ],
   "source": [
    "# tuple 不可以修改，指的是内容不可以修改，\n",
    "# 修改tuple内筒会导致报错\n",
    " t1[1] = 100"
   ]
  },
  {
   "cell_type": "code",
   "execution_count": 84,
   "metadata": {},
   "outputs": [
    {
     "name": "stdout",
     "output_type": "stream",
     "text": [
      "(1, 2, 3, 1, 2, 3, 1, 2, 3)\n"
     ]
    }
   ],
   "source": [
    "# 元祖相乘\n",
    "t = (1,2,3)\n",
    "t = t * 3\n",
    "print(t)"
   ]
  },
  {
   "cell_type": "code",
   "execution_count": 86,
   "metadata": {},
   "outputs": [
    {
     "name": "stdout",
     "output_type": "stream",
     "text": [
      "YES\n"
     ]
    }
   ],
   "source": [
    "# 成员检测\n",
    "t = (1,2,3)\n",
    "if 2 in t:\n",
    "    print(\"YES\")\n",
    "else:\n",
    "    print(\"FALSE\")"
   ]
  },
  {
   "cell_type": "code",
   "execution_count": 89,
   "metadata": {},
   "outputs": [
    {
     "name": "stdout",
     "output_type": "stream",
     "text": [
      "1 2 3 wangxiaojign i love "
     ]
    }
   ],
   "source": [
    "# 元祖遍历，一般采用for\n",
    "# 1. 单层元祖遍历\n",
    "t= (1,2,3,'wangxiaojign','i','love')\n",
    "for i in t:\n",
    "    print(i,end = ' ')"
   ]
  },
  {
   "cell_type": "code",
   "execution_count": 91,
   "metadata": {},
   "outputs": [
    {
     "name": "stdout",
     "output_type": "stream",
     "text": [
      "(1, 2, 3)\n",
      "(4, 4, 6)\n",
      "('dda', 'dadv', 'xxx')\n",
      "1 -- 2 -- 3\n",
      "4 -- 4 -- 6\n",
      "dda -- dadv -- xxx\n"
     ]
    }
   ],
   "source": [
    "# 2. 双层元祖遍历\n",
    "t = ((1,2,3),(4,4,6),('dda','dadv','xxx'))\n",
    "# 单层遍历\n",
    "for i in t:\n",
    "    print(i)\n",
    "for k,m,n in t:\n",
    "    print(k,\"--\",m,\"--\",n)"
   ]
  }
 ],
 "metadata": {
  "kernelspec": {
   "display_name": "Python 3",
   "language": "python",
   "name": "python3"
  },
  "language_info": {
   "codemirror_mode": {
    "name": "ipython",
    "version": 3
   },
   "file_extension": ".py",
   "mimetype": "text/x-python",
   "name": "python",
   "nbconvert_exporter": "python",
   "pygments_lexer": "ipython3",
   "version": "3.6.3"
  }
 },
 "nbformat": 4,
 "nbformat_minor": 2
}
